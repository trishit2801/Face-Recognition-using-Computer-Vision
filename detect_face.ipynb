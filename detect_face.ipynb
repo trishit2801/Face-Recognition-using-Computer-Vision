{
 "cells": [
  {
   "cell_type": "code",
   "execution_count": 1,
   "id": "eleven-chapel",
   "metadata": {},
   "outputs": [],
   "source": [
    "import face_recognition\n",
    "import cv2\n",
    "import numpy as np"
   ]
  },
  {
   "cell_type": "code",
   "execution_count": 2,
   "id": "focal-borough",
   "metadata": {},
   "outputs": [],
   "source": [
    "video_capture = cv2.VideoCapture(0);"
   ]
  },
  {
   "cell_type": "code",
   "execution_count": 3,
   "id": "protecting-championship",
   "metadata": {},
   "outputs": [],
   "source": [
    "obama_image = face_recognition.load_image_file(\"/Users/trishit/Code/Udemy/Tensorflow-Bootcamp/Face-Recognition/sample-images/obama.jpg\")\n",
    "obama_face_encoding = face_recognition.face_encodings(obama_image)[0]"
   ]
  },
  {
   "cell_type": "code",
   "execution_count": 4,
   "id": "external-found",
   "metadata": {},
   "outputs": [],
   "source": [
    "kalam_image = face_recognition.load_image_file(\"/Users/trishit/Code/Udemy/Tensorflow-Bootcamp/Face-Recognition/sample-images/kalam.jpg\")\n",
    "kalam_face_encoding = face_recognition.face_encodings(kalam_image)[0]"
   ]
  },
  {
   "cell_type": "code",
   "execution_count": 5,
   "id": "introductory-authority",
   "metadata": {},
   "outputs": [],
   "source": [
    "steve_image = face_recognition.load_image_file(\"/Users/trishit/Code/Udemy/Tensorflow-Bootcamp/Face-Recognition/sample-images/steve.jpg\")\n",
    "steve_face_encoding = face_recognition.face_encodings(steve_image)[0]"
   ]
  },
  {
   "cell_type": "code",
   "execution_count": 6,
   "id": "awful-forwarding",
   "metadata": {},
   "outputs": [],
   "source": [
    "elon_image = face_recognition.load_image_file(\"/Users/trishit/Code/Udemy/Tensorflow-Bootcamp/Face-Recognition/sample-images/elon.jpg\")\n",
    "elon_face_encoding = face_recognition.face_encodings(elon_image)[0]"
   ]
  },
  {
   "cell_type": "code",
   "execution_count": 7,
   "id": "protective-husband",
   "metadata": {},
   "outputs": [],
   "source": [
    "pichai_image = face_recognition.load_image_file(\"/Users/trishit/Code/Udemy/Tensorflow-Bootcamp/Face-Recognition/sample-images/pichai.jpg\")\n",
    "pichai_face_encoding = face_recognition.face_encodings(pichai_image)[0]"
   ]
  },
  {
   "cell_type": "code",
   "execution_count": 8,
   "id": "brown-filter",
   "metadata": {},
   "outputs": [],
   "source": [
    "vikram_image = face_recognition.load_image_file(\"/Users/trishit/Code/Udemy/Tensorflow-Bootcamp/Face-Recognition/sample-images/vikram.jpg\")\n",
    "vikram_face_encoding = face_recognition.face_encodings(vikram_image)[0]"
   ]
  },
  {
   "cell_type": "code",
   "execution_count": 9,
   "id": "immune-chess",
   "metadata": {},
   "outputs": [],
   "source": [
    "trishit_image = face_recognition.load_image_file(\"/Users/trishit/Code/Udemy/Tensorflow-Bootcamp/Face-Recognition/sample-images/trishit.jpeg\")\n",
    "trishit_face_encoding = face_recognition.face_encodings(trishit_image)[0]"
   ]
  },
  {
   "cell_type": "code",
   "execution_count": 10,
   "id": "blind-brooklyn",
   "metadata": {},
   "outputs": [],
   "source": [
    "known_face_encodings = [\n",
    "    obama_face_encoding,\n",
    "    kalam_face_encoding,\n",
    "    steve_face_encoding,\n",
    "    elon_face_encoding,\n",
    "    pichai_face_encoding,\n",
    "    vikram_face_encoding,\n",
    "    trishit_face_encoding\n",
    "]\n",
    "known_face_names = [\n",
    "    \"Barack Obama\",\n",
    "    \"APJ Abdul Kalam\",\n",
    "    \"Steve Jobs\",\n",
    "    \"Elon Musk\",\n",
    "    \"Sudar Pichai\",\n",
    "    \"Vikram Sarabhai\",\n",
    "    \"Trishit\"\n",
    "]"
   ]
  },
  {
   "cell_type": "code",
   "execution_count": null,
   "id": "imposed-pride",
   "metadata": {},
   "outputs": [],
   "source": [
    "# Initialize some variables\n",
    "face_locations = []\n",
    "face_encodings = []\n",
    "face_names = []\n",
    "process_this_frame = True\n",
    "\n",
    "while True:\n",
    "    # Grab a single frame of video\n",
    "    ret, frame = video_capture.read()\n",
    "\n",
    "    # Resize frame of video to 1/4 size for faster face recognition processing\n",
    "    small_frame = cv2.resize(frame, (0, 0), fx=0.25, fy=0.25)\n",
    "\n",
    "    # Convert the image from BGR color (which OpenCV uses) to RGB color (which face_recognition uses)\n",
    "    rgb_small_frame = small_frame[:, :, ::-1]\n",
    "\n",
    "    # Only process every other frame of video to save time\n",
    "    if process_this_frame:\n",
    "        # Find all the faces and face encodings in the current frame of video\n",
    "        face_locations = face_recognition.face_locations(rgb_small_frame)\n",
    "        face_encodings = face_recognition.face_encodings(rgb_small_frame, face_locations)\n",
    "\n",
    "        face_names = []\n",
    "        for face_encoding in face_encodings:\n",
    "            # See if the face is a match for the known face(s)\n",
    "            matches = face_recognition.compare_faces(known_face_encodings, face_encoding)\n",
    "            name = \"Unknown\"\n",
    "\n",
    "            # # If a match was found in known_face_encodings, just use the first one.\n",
    "            # if True in matches:\n",
    "            #     first_match_index = matches.index(True)\n",
    "            #     name = known_face_names[first_match_index]\n",
    "\n",
    "            # Or instead, use the known face with the smallest distance to the new face\n",
    "            face_distances = face_recognition.face_distance(known_face_encodings, face_encoding)\n",
    "            best_match_index = np.argmin(face_distances)\n",
    "            if matches[best_match_index]:\n",
    "                name = known_face_names[best_match_index]\n",
    "\n",
    "            face_names.append(name)\n",
    "\n",
    "    process_this_frame = not process_this_frame\n",
    "\n",
    "\n",
    "    # Display the results\n",
    "    for (top, right, bottom, left), name in zip(face_locations, face_names):\n",
    "        # Scale back up face locations since the frame we detected in was scaled to 1/4 size\n",
    "        top *= 4\n",
    "        right *= 4\n",
    "        bottom *= 4\n",
    "        left *= 4\n",
    "\n",
    "        # Draw a box around the face\n",
    "        cv2.rectangle(frame, (left, top), (right, bottom), (0, 0, 255), 2)\n",
    "\n",
    "        # Draw a label with a name below the face\n",
    "        cv2.rectangle(frame, (left, bottom - 35), (right, bottom), (0, 0, 255), cv2.FILLED)\n",
    "        font = cv2.FONT_HERSHEY_DUPLEX\n",
    "        cv2.putText(frame, name, (left + 6, bottom - 6), font, 1.0, (255, 255, 255), 1)\n",
    "\n",
    "    # Display the resulting image\n",
    "    cv2.imshow('Video', frame)\n",
    "\n",
    "    # Hit 'q' on the keyboard to quit!\n",
    "    if cv2.waitKey(1) & 0xFF == ord('q'):\n",
    "        break\n",
    "\n",
    "# Release handle to the webcam\n",
    "video_capture.release()\n",
    "cv2.destroyAllWindows()"
   ]
  },
  {
   "cell_type": "code",
   "execution_count": null,
   "id": "restricted-jason",
   "metadata": {},
   "outputs": [],
   "source": []
  }
 ],
 "metadata": {
  "kernelspec": {
   "display_name": "Python 3",
   "language": "python",
   "name": "python3"
  },
  "language_info": {
   "codemirror_mode": {
    "name": "ipython",
    "version": 3
   },
   "file_extension": ".py",
   "mimetype": "text/x-python",
   "name": "python",
   "nbconvert_exporter": "python",
   "pygments_lexer": "ipython3",
   "version": "3.5.4"
  }
 },
 "nbformat": 4,
 "nbformat_minor": 5
}
